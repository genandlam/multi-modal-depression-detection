{
 "cells": [
  {
   "cell_type": "code",
   "execution_count": 1,
   "metadata": {},
   "outputs": [],
   "source": [
    "import os\n",
    "import numpy as np\n",
    "import pandas as pd\n",
    "from sklearn.metrics import classification_report, confusion_matrix, f1_score\n",
    "\n",
    "from finetune import Classifier\n",
    "from finetune.config import get_default_config, get_small_model_config, GridSearchable"
   ]
  },
  {
   "cell_type": "code",
   "execution_count": 2,
   "metadata": {},
   "outputs": [
    {
     "name": "stdout",
     "output_type": "stream",
     "text": [
      "Training data: (107, 2)\n",
      "Testing data: (33, 2)\n"
     ]
    }
   ],
   "source": [
    "# Load data\n",
    "data_train = pd.read_csv(\"data_train_noaug.csv\")\n",
    "print(\"Training data: {}\".format(data_train.shape))\n",
    "data_test = pd.read_csv(\"data_test.csv\")\n",
    "print(\"Testing data: {}\".format(data_test.shape))\n",
    "\n",
    "trainX, trainY = data_train.Text, data_train.Targets\n",
    "testX, testY = data_test.Text, data_test.Targets"
   ]
  },
  {
   "cell_type": "code",
   "execution_count": 3,
   "metadata": {},
   "outputs": [],
   "source": [
    "# Load model from file\n",
    "model = Classifier.load(\"model_f10.78_epochs1_lr6.25e-6\")"
   ]
  },
  {
   "cell_type": "code",
   "execution_count": 4,
   "metadata": {},
   "outputs": [
    {
     "name": "stdout",
     "output_type": "stream",
     "text": [
      "WARNING:tensorflow:From /home/ckjoshi9/miniconda3/envs/tf/lib/python3.6/site-packages/tensorflow/python/framework/function.py:986: calling Graph.create_op (from tensorflow.python.framework.ops) with compute_shapes is deprecated and will be removed in a future version.\n",
      "Instructions for updating:\n",
      "Shapes are always computed; don't use the compute_shapes as it has no effect.\n"
     ]
    },
    {
     "name": "stderr",
     "output_type": "stream",
     "text": []
    },
    {
     "name": "stdout",
     "output_type": "stream",
     "text": [
      "Test Accuracy: 0.85 for a 0.36 class balance\n",
      "\n",
      "Classification Report:\n",
      "\n",
      "             precision    recall  f1-score   support\n",
      "\n",
      "          0       0.86      0.90      0.88        21\n",
      "          1       0.82      0.75      0.78        12\n",
      "\n",
      "avg / total       0.85      0.85      0.85        33\n",
      "\n",
      "\n",
      "Confusion Matrix:\n",
      "\n",
      "[[19  2]\n",
      " [ 3  9]]\n",
      "\n",
      "F1-Score:  0.7826086956521738\n"
     ]
    }
   ],
   "source": [
    "# Compute metrics\n",
    "predY = model.predict(testX)\n",
    "accuracy = np.mean(predY == testY)\n",
    "class_balance = np.mean(testY)\n",
    "print('Test Accuracy: {:0.2f} for a {:0.2f} class balance'.format(accuracy, class_balance))\n",
    "print(\"\\nClassification Report:\\n\")\n",
    "print(classification_report(model.label_encoder.transform(testY), model.label_encoder.transform(predY)))\n",
    "print(\"\\nConfusion Matrix:\\n\")\n",
    "print(confusion_matrix(testY, predY))\n",
    "print(\"\\nF1-Score: \", f1_score(predY, testY))"
   ]
  },
  {
   "cell_type": "code",
   "execution_count": 11,
   "metadata": {},
   "outputs": [
    {
     "name": "stderr",
     "output_type": "stream",
     "text": []
    },
    {
     "name": "stdout",
     "output_type": "stream",
     "text": [
      "(107, 512)\n"
     ]
    },
    {
     "name": "stderr",
     "output_type": "stream",
     "text": [
      "                                                                                "
     ]
    },
    {
     "name": "stdout",
     "output_type": "stream",
     "text": [
      "(33, 512)\n"
     ]
    },
    {
     "name": "stderr",
     "output_type": "stream",
     "text": []
    }
   ],
   "source": [
    "text_features_train = model.featurize(trainX)\n",
    "print(text_features_train.shape)\n",
    "text_features_test = model.featurize(testX)\n",
    "print(text_features_test.shape)"
   ]
  },
  {
   "cell_type": "code",
   "execution_count": 12,
   "metadata": {},
   "outputs": [],
   "source": [
    "np.savetxt(fname=\"train_text_features_augm.txt\", X=text_features_train)\n",
    "np.savetxt(fname=\"test_text_features_augm.txt\", X=text_features_test)"
   ]
  },
  {
   "cell_type": "code",
   "execution_count": null,
   "metadata": {},
   "outputs": [],
   "source": []
  }
 ],
 "metadata": {
  "kernelspec": {
   "display_name": "Python 3",
   "language": "python",
   "name": "python3"
  },
  "language_info": {
   "codemirror_mode": {
    "name": "ipython",
    "version": 3
   },
   "file_extension": ".py",
   "mimetype": "text/x-python",
   "name": "python",
   "nbconvert_exporter": "python",
   "pygments_lexer": "ipython3",
   "version": "3.7.3"
  }
 },
 "nbformat": 4,
 "nbformat_minor": 2
}
