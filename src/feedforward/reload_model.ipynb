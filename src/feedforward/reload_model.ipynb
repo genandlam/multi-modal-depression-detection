{
 "cells": [
  {
   "cell_type": "code",
   "execution_count": 1,
   "metadata": {},
   "outputs": [
    {
     "name": "stderr",
     "output_type": "stream",
     "text": [
      "Using TensorFlow backend.\n"
     ]
    },
    {
     "name": "stdout",
     "output_type": "stream",
     "text": [
      "Using GPU:  ['/job:localhost/replica:0/task:0/device:GPU:0']\n"
     ]
    }
   ],
   "source": [
    "from __future__ import print_function\n",
    "import os\n",
    "import tensorflow as tf\n",
    "import numpy as np\n",
    "import sklearn\n",
    "from sklearn.utils import class_weight\n",
    "from sklearn.metrics import confusion_matrix, classification_report\n",
    "\n",
    "from keras.models import Model\n",
    "from keras.layers import Input, Conv1D, BatchNormalization, Activation, \\\n",
    "                         Dropout, MaxPooling1D, GlobalAveragePooling1D, \\\n",
    "                         GlobalMaxPooling1D, Lambda, Concatenate, Dense, regularizers\n",
    "from keras.utils import np_utils\n",
    "from keras import backend as K\n",
    "from keras import optimizers, activations\n",
    "from keras.optimizers import Adam\n",
    "\n",
    "from sklearn.model_selection import GridSearchCV\n",
    "from sklearn.utils import class_weight\n",
    "from sklearn.metrics import confusion_matrix, classification_report\n",
    "\n",
    "\n",
    "os.environ[\"CUDA_VISIBLE_DEVICES\"]=\"1\"\n",
    "\n",
    "config = tf.ConfigProto()\n",
    "config.gpu_options.allow_growth=True\n",
    "sess = tf.Session(config=config)\n",
    "K.set_session(sess)\n",
    "print(\"Using GPU: \", K.tensorflow_backend._get_available_gpus())\n",
    "\n",
    "K.set_image_dim_ordering('tf')"
   ]
  },
  {
   "cell_type": "code",
   "execution_count": 2,
   "metadata": {
    "collapsed": true
   },
   "outputs": [],
   "source": [
    "def retrieve_file(file_name):\n",
    "    path = './'\n",
    "    outfile = path + file_name\n",
    "    X = np.load(outfile)\n",
    "    X = X['arr_0']\n",
    "    return X\n",
    "\n",
    "def retrieve_file_no_aug(file_name):\n",
    "    path = '../data/raw_data/processed_topic/'\n",
    "    outfile = path + file_name\n",
    "    X = np.load(outfile, encoding='latin1')\n",
    "    X = X['arr_0']\n",
    "    return X"
   ]
  },
  {
   "cell_type": "code",
   "execution_count": 3,
   "metadata": {
    "collapsed": true
   },
   "outputs": [],
   "source": [
    "def standard_confusion_matrix(y_test, y_test_pred):\n",
    "    \"\"\"\n",
    "    Make confusion matrix with format:\n",
    "                  -----------\n",
    "                  | TP | FP |\n",
    "                  -----------\n",
    "                  | FN | TN |\n",
    "                  -----------\n",
    "    Parameters\n",
    "    ----------\n",
    "    y_true : ndarray - 1D\n",
    "    y_pred : ndarray - 1D\n",
    "\n",
    "    Returns\n",
    "    -------\n",
    "    ndarray - 2D\n",
    "    \"\"\"\n",
    "    cnf_matrix = confusion_matrix(y_test, y_test_pred)\n",
    "    print(\"\\nConfusion Matrix: (sklearn)\\n\")\n",
    "    print(cnf_matrix)\n",
    "    [[tn, fp], [fn, tp]] = cnf_matrix\n",
    "    return np.array([[tp, fp], [fn, tn]])\n",
    "\n",
    "\n",
    "def model_performance(model, X_train, X_test, y_train, y_test):\n",
    "    \"\"\"\n",
    "    Evaluation metrics for network performance.\n",
    "    \"\"\"\n",
    "    y_test_pred = np.argmax(model.predict(X_test), axis=-1)\n",
    "    y_train_pred = np.argmax(model.predict(X_train), axis=-1)\n",
    "\n",
    "    # Computing confusion matrix for test dataset\n",
    "    conf_matrix = standard_confusion_matrix(y_test, y_test_pred)\n",
    "    print(\"\\nConfusion Matrix:\\n\")\n",
    "    print(conf_matrix)\n",
    "    \n",
    "    target_name=['non-depressed','depressed']\n",
    "    clf_report = classification_report(y_test, y_test_pred, target_names=target_name)\n",
    "    print(\"\\nClassification Report (sklearn):\\n\")\n",
    "    print(clf_report)\n",
    "    \n",
    "    print(\"\\nF1-Score: {}\".format(sklearn.metrics.f1_score(y_test, y_test_pred)))\n",
    "    return y_train_pred, y_test_pred, conf_matrix, clf_report"
   ]
  },
  {
   "cell_type": "code",
   "execution_count": 4,
   "metadata": {},
   "outputs": [
    {
     "name": "stdout",
     "output_type": "stream",
     "text": [
      "(307, 64)\n",
      "(33, 64)\n",
      "(307, 512)\n",
      "(33, 512)\n",
      "(307, 576)\n",
      "(33, 576)\n"
     ]
    }
   ],
   "source": [
    "train_audio_features = np.loadtxt(\"train_audio_features_augm200.txt\")\n",
    "print(train_audio_features.shape)\n",
    "test_audio_features = np.loadtxt(\"test_audio_features_augm200.txt\")\n",
    "print(test_audio_features.shape)\n",
    "\n",
    "train_text_features = np.loadtxt(\"train_text_features_augm200.txt\")\n",
    "print(train_text_features.shape)\n",
    "test_text_features = np.loadtxt(\"test_text_features_augm200.txt\")\n",
    "print(test_text_features.shape)\n",
    "\n",
    "train_features_audio_text = np.concatenate((train_text_features,train_audio_features),axis=1)\n",
    "print(train_features_audio_text.shape)\n",
    "test_features_audio_text = np.concatenate((test_text_features,test_audio_features),axis=1)\n",
    "print(test_features_audio_text.shape)\n",
    "\n",
    "y_train_no_aug = retrieve_file_no_aug('train_labels.npz')\n",
    "y_train3 = retrieve_file('train_labels_200.npz')\n",
    "\n",
    "y_train=np.concatenate((y_train_no_aug, y_train3), axis=0)\n",
    "y_test = retrieve_file_no_aug('test_labels.npz')\n",
    "\n",
    "nb_classes=2\n",
    "\n",
    "\n",
    "# Convert class vectors to binary class matrices\n",
    "Y_train = np_utils.to_categorical(y_train, nb_classes)\n",
    "Y_test = np_utils.to_categorical(y_test, nb_classes)\n"
   ]
  },
  {
   "cell_type": "code",
   "execution_count": 5,
   "metadata": {},
   "outputs": [
    {
     "name": "stdout",
     "output_type": "stream",
     "text": [
      "_________________________________________________________________\n",
      "Layer (type)                 Output Shape              Param #   \n",
      "=================================================================\n",
      "input_2268 (InputLayer)      (None, 576)               0         \n",
      "_________________________________________________________________\n",
      "dense_5181 (Dense)           (None, 64)                36928     \n",
      "_________________________________________________________________\n",
      "batch_normalization_2914 (Ba (None, 64)                256       \n",
      "_________________________________________________________________\n",
      "activation_2914 (Activation) (None, 64)                0         \n",
      "_________________________________________________________________\n",
      "dropout_2914 (Dropout)       (None, 64)                0         \n",
      "_________________________________________________________________\n",
      "dense_5182 (Dense)           (None, 64)                4160      \n",
      "_________________________________________________________________\n",
      "batch_normalization_2915 (Ba (None, 64)                256       \n",
      "_________________________________________________________________\n",
      "activation_2915 (Activation) (None, 64)                0         \n",
      "_________________________________________________________________\n",
      "dropout_2915 (Dropout)       (None, 64)                0         \n",
      "_________________________________________________________________\n",
      "dense_5183 (Dense)           (None, 64)                4160      \n",
      "_________________________________________________________________\n",
      "batch_normalization_2916 (Ba (None, 64)                256       \n",
      "_________________________________________________________________\n",
      "activation_2916 (Activation) (None, 64)                0         \n",
      "_________________________________________________________________\n",
      "dropout_2916 (Dropout)       (None, 64)                0         \n",
      "_________________________________________________________________\n",
      "dense_5184 (Dense)           (None, 2)                 130       \n",
      "=================================================================\n",
      "Total params: 46,146\n",
      "Trainable params: 45,762\n",
      "Non-trainable params: 384\n",
      "_________________________________________________________________\n",
      "\n",
      "Evaluating model...\n",
      "\n",
      "Confusion Matrix: (sklearn)\n",
      "\n",
      "[[20  1]\n",
      " [ 2 10]]\n",
      "\n",
      "Confusion Matrix:\n",
      "\n",
      "[[10  1]\n",
      " [ 2 20]]\n",
      "\n",
      "Classification Report (sklearn):\n",
      "\n",
      "               precision    recall  f1-score   support\n",
      "\n",
      "non-depressed       0.91      0.95      0.93        21\n",
      "    depressed       0.91      0.83      0.87        12\n",
      "\n",
      "  avg / total       0.91      0.91      0.91        33\n",
      "\n",
      "\n",
      "F1-Score: 0.869565217391\n"
     ]
    }
   ],
   "source": [
    "from keras.models import load_model\n",
    "\n",
    "model = load_model('fd_augm_run200_f10.869565217391.h5')\n",
    "model.compile(loss='categorical_crossentropy',\n",
    "                 optimizer=Adam(lr=6.25e-5),\n",
    "                 metrics=['accuracy'])\n",
    "model.summary()\n",
    "\n",
    "#score_train = model.evaluate(X_train, y_train, verbose=0)\n",
    "# print('Train accuracy:', score_train[1])\n",
    "# score_test = model.evaluate(X_test, y_test, verbose=0)\n",
    "# print('Test accuracy:', score_test[1])\n",
    "# evaluate model\n",
    "print('\\nEvaluating model...')\n",
    "y_train_pred, y_test_pred, conf_matrix, clf_report = model_performance(model, train_features_audio_text, test_features_audio_text, y_train, y_test)\n",
    "\n"
   ]
  },
  {
   "cell_type": "code",
   "execution_count": null,
   "metadata": {
    "collapsed": true
   },
   "outputs": [],
   "source": []
  }
 ],
 "metadata": {
  "kernelspec": {
   "display_name": "Python 3",
   "language": "python",
   "name": "python3"
  },
  "language_info": {
   "codemirror_mode": {
    "name": "ipython",
    "version": 3
   },
   "file_extension": ".py",
   "mimetype": "text/x-python",
   "name": "python",
   "nbconvert_exporter": "python",
   "pygments_lexer": "ipython3",
   "version": "3.7.3"
  }
 },
 "nbformat": 4,
 "nbformat_minor": 2
}
